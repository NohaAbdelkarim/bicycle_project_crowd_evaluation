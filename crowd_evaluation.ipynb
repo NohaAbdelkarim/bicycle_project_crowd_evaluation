{
 "cells": [
  {
   "cell_type": "code",
   "execution_count": 1,
   "metadata": {},
   "outputs": [],
   "source": [
    "import pandas as pd\n",
    "import numpy as np\n",
    "import matplotlib.pyplot as plt\n",
    "import json\n",
    "import seaborn as sns\n",
    "import os"
   ]
  },
  {
   "cell_type": "code",
   "execution_count": 2,
   "metadata": {},
   "outputs": [
    {
     "data": {
      "text/plain": [
       "'\\n1. Gather insights about the annotators:\\n    a. How many annotators did contribute to the dataset?\\n    b. What are the average, min and max annotation times (durations)? Feel free to\\n        add visual representations here such as graphs if you like.\\n    c. Did all annotators produce the same amount of results, or are there\\n        differences?\\n    d. Are there questions for which annotators highly disagree?\\n'"
      ]
     },
     "execution_count": 2,
     "metadata": {},
     "output_type": "execute_result"
    }
   ],
   "source": [
    "\"\"\"\n",
    "1. Gather insights about the annotators:\n",
    "    a. How many annotators did contribute to the dataset?\n",
    "    b. What are the average, min and max annotation times (durations)? Feel free to\n",
    "        add visual representations here such as graphs if you like.\n",
    "    c. Did all annotators produce the same amount of results, or are there\n",
    "        differences?\n",
    "    d. Are there questions for which annotators highly disagree?\n",
    "\"\"\""
   ]
  },
  {
   "cell_type": "code",
   "execution_count": 27,
   "metadata": {},
   "outputs": [
    {
     "name": "stdout",
     "output_type": "stream",
     "text": [
      "The anonymized_project dataset has 22 annotators\n",
      "annotator_02\n"
     ]
    }
   ],
   "source": [
    "# The answer of the question: How many annotators did contribute to the dataset?\n",
    "\n",
    "# Read the results CSV file to analyze the 'vendor_user_id' column\n",
    "results_data = pd.read_csv('results.csv')\n",
    "# Extract the 'vendor_user_id' column\n",
    "vendor_user_id = results_data['vendor_user_id'].tolist()\n",
    "# Determine the annotator list without repetition\n",
    "annotators_list_without_repetition=sorted(set(vendor_user_id))\n",
    "# determine the count of annotator from getting the length of the annotators list without repetition\n",
    "annotators_count = len(annotators_list_without_repetition)\n",
    "# print the annotators count\n",
    "print(\"The anonymized_project dataset has \"+ str(annotators_count) + \" annotators\")\n",
    "print(annotators_list_without_repetition[1])"
   ]
  },
  {
   "cell_type": "code",
   "execution_count": 4,
   "metadata": {},
   "outputs": [
    {
     "name": "stdout",
     "output_type": "stream",
     "text": [
      "The average annotation time is 1289.921354992076\n",
      "The max annotation time is 42398\n",
      "The min annotation time is 10\n"
     ]
    }
   ],
   "source": [
    "#The answer of the question: What are the average, min and max annotation times (durations)? Feel free to\n",
    "#add visual representations here such as graphs if you like.\n",
    "\n",
    "# Extract the 'duration_ms' column\n",
    "duration_ms = results_data['duration_ms'].tolist()\n",
    "# Determine the positive time list as time can not be negative number\n",
    "duration_ms_positive=[i for i in duration_ms if i > 0]\n",
    "# Determine the average annotation time\n",
    "average_annotation_time = sum(duration_ms_positive)/len(duration_ms_positive)\n",
    "# Determine the max annotation time\n",
    "max_annotation_time = max(duration_ms_positive)\n",
    "# Determine the min annotation time\n",
    "min_annotation_time = min(duration_ms_positive)\n",
    "# print the average annotation time\n",
    "print(\"The average annotation time is \" + str(average_annotation_time))\n",
    "# print the max annotation time\n",
    "print(\"The max annotation time is \" + str(max_annotation_time))\n",
    "# print the min annotation time\n",
    "print(\"The min annotation time is \" + str(min_annotation_time))\n",
    "\n",
    "\n"
   ]
  },
  {
   "cell_type": "code",
   "execution_count": 31,
   "metadata": {},
   "outputs": [
    {
     "name": "stdout",
     "output_type": "stream",
     "text": [
      "The annotators contribution list: [1280, 7596, 630, 6421, 3475, 5337, 2175, 6537, 4860, 315, 6436, 6210, 7078, 1725, 6088, 5061, 3485, 5170, 170, 6126, 2950, 1745]\n",
      "As shown in the annotators contribution list, the annotators participate with a different amount of results\n"
     ]
    },
    {
     "data": {
      "image/png": "[encoded data removed]",
      "text/plain": [
       "<Figure size 432x288 with 1 Axes>"
      ]
     },
     "metadata": {
      "needs_background": "light"
     },
     "output_type": "display_data"
    }
   ],
   "source": [
    "#The answer of the question: Did all annotators produce the same amount of results, or are there\n",
    "# differences?\n",
    "def annotator_count(vendor_user_id):\n",
    "    annotator_contribution_list=[vendor_user_id.count(str(annotatorID)) for annotatorID in annotators_list_without_repetition]\n",
    "    return annotator_contribution_list\n",
    "annotator_contribution_list = annotator_count(vendor_user_id)\n",
    "print('The annotators contribution list: ' + str(annotator_contribution_list))\n",
    "print('As shown in the annotators contribution list, the annotators participate with a different amount of results')\n",
    "plt.plot(annotator_contribution_list,'*')\n",
    "plt.title('The amount of contribution for each annotator')\n",
    "plt.ylabel('contribution')\n",
    "plt.xlabel('annotators')\n",
    "plt.savefig('annotator_contribution.png')\n",
    "plt.show()"
   ]
  },
  {
   "cell_type": "code",
   "execution_count": 33,
   "metadata": {},
   "outputs": [
    {
     "name": "stdout",
     "output_type": "stream",
     "text": [
      "10\n",
      "There are 68 questions for which annotators highly disagree which are:\n",
      "['e6700252-2540-4503-b601-9ea77c5824c3', '43398efe-2fd3-4426-a7b1-6c2394235c2b', '29f0ef89-165a-4cb6-b85e-2e29a3ea63fa', '44aa9339-fb33-4567-9d48-9426ee45eec6', '46629c2d-0dce-4f4c-908b-e4f86e7c204f', '2ea37264-ba5f-4179-9424-769ba320d0ad', '3d824a87-cb04-4836-8d01-39edbf20542f', '440a7bc1-16ab-4088-8516-d137d7118c91', 'b9b2e178-9ff6-463e-a8e2-08c634b84ba4', 'f7dd3e85-7dbb-4ad4-83d4-4103880828f7', 'e08b26f7-8cd6-4e5f-acd2-668f6647e2f5', 'af60e04d-3a94-4d68-a03b-69912094ea74', '1a026fbd-b23d-4e99-a39f-efd7cee9ad9b', '5837adca-d080-4a36-970f-beea52d4f189', '398b92bd-c368-41be-85fc-67b057f4e680', '1c1f637a-2ce7-48e4-a1e7-31d17bb96d89', '935d994f-4ca8-4d6e-af01-faeeb86f24d3', '552b3443-e420-4c0f-b0bd-4836b587de1c', '994db647-6a9f-426a-bfa8-03630e947538', 'ca84eeb6-6a68-4d6f-a19f-a8000746aa0d', 'd6e15560-0165-47c3-8e79-ff026f19c110', '601715be-001a-44f8-a608-497834e4d596', 'd8cd6d52-fb0c-4bdb-9729-d771de8245b2', '8d8bd007-04b6-4342-838d-6fdc9a3d46d2', '28867eb1-c33a-4441-8abf-0e601a8990e9', '63922e13-38d0-42c3-8e1c-1ee78a2a4998', '4968cd8f-091d-4c5b-a958-71415f3dd85f', '70743c01-62f9-453a-a5f5-59f395b06033', '44a7efaa-5d46-48be-805b-bc58632262f1', 'c87947cf-c58b-4507-94d7-cfdb28e05569', '5e3ecec4-06c3-40e3-87e7-910c7100f270', '399b170b-7326-4f88-a9b4-1fc5c5a4dce0', 'e3032731-51dc-4368-b340-5c754327feb3', 'c87d8f28-23f1-4475-90da-1d2d19a9c85e', 'f2856b3f-1cd3-427b-a1f0-519e876b9e09', '11706922-42c8-46e4-abb7-259f12197dc2', '85fcdae3-4352-4570-9892-0ef0b37d2562', 'a5b67502-05d0-456a-917d-054d867b51ef', '495aaca5-23d5-4777-a78b-d6b2958f4980', '72dab881-9572-4c3d-bbec-79407c61c54e', '8d79ff0c-ad61-40dd-ad65-dacfcfe9fa99', 'c1410789-726e-43ba-b405-98cb34db790c', 'e6b13466-3014-48e6-9d96-1670b24ee681', '7de83e11-18f5-43c6-9998-4b8eba102cf0', '2bd610f8-0899-4388-bb44-fb48af8ab851', '3c0e15c1-11c6-4810-95ef-959812509cf0', '67636aaa-1a04-41f3-9be0-7f133487fc0e', 'd485acd3-cb8a-452f-b053-4e658a9ba3d4', '70d72095-db0e-4dff-8d25-a43836dfb3a3', 'ebcf9610-b958-4b39-9f39-dae1363d6240', '8db5ea7d-1e03-45e3-af87-ef2701fbbda1', 'e87dd5fa-8b11-48ed-af67-e66a297047c2', '456340f4-fe83-4a27-a647-b807dd516bcf', '2caf64c4-8f7e-4841-a278-d4d2ce15b644', 'b745d53c-1157-430b-a0cb-32cf705c7f28', '001460c2-712d-45d2-8afe-cdac237196a2', 'b3ca2492-43a6-435a-bef6-c60083902ae5', 'cfd457ec-0a61-40e0-8939-b29c27767dd0', '8353a105-8906-4b35-bdcd-33a98cc859b1', '1ddc5730-44cb-482f-a7d9-4510de6452d3', '312e1e69-0285-41e5-b248-e8cb075c9e6d', 'e01bc807-a071-4def-ae51-da7ffd753a2c', '96b72c46-2d23-4be0-85fa-483a232b95d6', '26869252-b3c1-42c3-bfe3-489c8e5b5e49', '895f9a7c-f8a7-4000-8055-9ccb3654c00d', 'a2690dcf-8a7c-4a87-9234-b69046b1dd32', '57fd88ff-e6b3-4b49-863c-e30fadc75475', 'b5c37a5f-250d-47a9-9931-795d8e3c9856']\n"
     ]
    }
   ],
   "source": [
    "#The answer of the question: Are there questions for which annotators highly disagree?\n",
    "# Determine the ID of each question in the dataset from the 'anonymized_project.json' file \n",
    "DataSet = [json.loads(line) for line in open('anonymized_project.json', 'r', encoding = 'utf-8')]\n",
    "results=DataSet[0]['results']['root_node']\n",
    "NodeInputID_List = []\n",
    "for NodeInputID in results['results']:\n",
    "    try: \n",
    "            NodeInputID_temp = NodeInputID\n",
    "            NodeInputID_List.append(NodeInputID_temp)\n",
    "                \n",
    "    except:\n",
    "         pass\n",
    "results=DataSet[0]['results']['root_node']['results'][NodeInputID_List[0]]['results']\n",
    "#Determine the number of input nodes in the dataset\n",
    "InputNodesLenght=len(NodeInputID_List)\n",
    "# Determine the number of questions in each input node\n",
    "InputNodeQuestions=len(results)\n",
    "\n",
    "# Extract the 'answer' column\n",
    "answer = results_data['answer'].tolist()\n",
    "answer_array = np.array(answer)\n",
    "shape = ( InputNodesLenght, InputNodeQuestions )\n",
    "# Shape the annotator's answers list into a matrix \n",
    "# to organize the answers of each question in a separate row\n",
    "answer_matrix=answer_array.reshape( shape )\n",
    "similar=[]\n",
    "no_count=0\n",
    "yes_count=0\n",
    "# Scan each row in the matrix to get the amount of similarity in each question answer\n",
    "for rows in range(0, answer_matrix.shape[0]):\n",
    "    for columns in range(0, answer_matrix.shape[1]):\n",
    "        if answer_matrix[rows][columns] =='yes':\n",
    "            yes_count=yes_count+1\n",
    "        elif answer_matrix[rows][columns] =='no':\n",
    "            no_count=no_count+1\n",
    "    number_of_similarities=max([yes_count,no_count])\n",
    "    temp= number_of_similarities/InputNodeQuestions\n",
    "    similar.append(temp)\n",
    "    no_count=0\n",
    "    yes_count=0\n",
    "\n",
    "# Use the questions ID list to determine the questions for which annotators highly disagree\n",
    "# by using the indices of the questions which have similar answers with only 50%  \n",
    "questions_highly_disagree=[]\n",
    "for index, item in enumerate(similar):\n",
    "    if item == 0.5:\n",
    "        temp=NodeInputID_List[index]\n",
    "        questions_highly_disagree.append(temp)\n",
    "\n",
    "questions_highly_disagree_df = pd.DataFrame(columns=['QuestionsHighlyDisagreeID'])\n",
    "questions_highly_disagree_df.QuestionsHighlyDisagreeID=questions_highly_disagree\n",
    "print(\"There are \"+ str(len(questions_highly_disagree))+ \" questions for which annotators highly disagree which are:\")\n",
    "print(questions_highly_disagree)\n",
    "# Save the determined questions ID in CSV file\n",
    "questions_highly_disagree_df.to_csv('questions_highly_disagree.csv') \n"
   ]
  },
  {
   "cell_type": "code",
   "execution_count": null,
   "metadata": {},
   "outputs": [],
   "source": [
    "\"\"\"\n",
    "2. Besides picking yes or no the annotators had the chance to tell if the data were\n",
    "corrupted or if they for any reason were not able to solve the task. These are fields\n",
    "'cant_solve' and 'corrupt_data' given in the task_output.\n",
    "    a. How often does each occur in the project and do you see a trend within the\n",
    "        annotators that made use of these options?\n",
    "\"\"\""
   ]
  },
  {
   "cell_type": "code",
   "execution_count": 7,
   "metadata": {},
   "outputs": [
    {
     "name": "stdout",
     "output_type": "stream",
     "text": [
      "The 'cant_solve' and 'corrupt_data' fields occurred 17, 4 times respectively\n",
      "IDs of annotators that used cant_solve and corrupt_data fields more than or equal three times:[4, 8, 18, 22]\n",
      "\n",
      "Most likely there is a trend between those annotators to use cant_solve and corrupt_data fields\n",
      "\n"
     ]
    }
   ],
   "source": [
    "# Extract the 'cant_solve' column\n",
    "cant_solve = results_data['cant_solve'].tolist()\n",
    "# Extract the 'corrupt_data' column\n",
    "corrupt_data = results_data['corrupt_data'].tolist()\n",
    "cant_solve_count=0\n",
    "cant_solve_annotator_index=[]\n",
    "# Calculate how often annotators answer with true for the 'cant_solve' field\n",
    "for index,answer in enumerate(cant_solve):\n",
    "    if str(answer) == 'True':\n",
    "        cant_solve_count=cant_solve_count+1\n",
    "        cant_solve_annotator_index.append(index)\n",
    "corrupt_data_count=0\n",
    "# Calculate how often annotators answer with true for the 'corrupt_data' field\n",
    "corrupt_data_annotator_index=[]\n",
    "for index,answer in enumerate(corrupt_data):\n",
    "    if str(answer) == 'True':\n",
    "        corrupt_data_count=corrupt_data_count+1\n",
    "        corrupt_data_annotator_index.append(index)\n",
    "# Determine the ID of annotators which used cant_solve field\n",
    "cant_solve_annotators = [vendor_user_id[x] for x in cant_solve_annotator_index]\n",
    "# Determine the ID of annotators which used corrupt_data field\n",
    "corrupt_data_annotators = [vendor_user_id[x] for x in corrupt_data_annotator_index]\n",
    "AmountOfUsageByAnnotators=annotator_count(cant_solve_annotators+corrupt_data_annotators)\n",
    "CheckForTrend=[index+1 for index,x in enumerate(AmountOfUsageByAnnotators) if x>=3]\n",
    "print(\"The 'cant_solve' and 'corrupt_data' fields occurred {0}, {1} times respectively\".format(cant_solve_count, corrupt_data_count))\n",
    "print('IDs of annotators that used cant_solve and corrupt_data fields more than or equal three times:'+str(sorted(CheckForTrend))+'\\n')\n",
    "print('Most likely there is a trend between those annotators to use cant_solve and corrupt_data fields'+'\\n')\n"
   ]
  },
  {
   "cell_type": "code",
   "execution_count": null,
   "metadata": {},
   "outputs": [],
   "source": [
    "\"\"\"\n",
    "3. Is the reference set balanced? Please demonstrate via numbers and visualizations.\n",
    "\"\"\""
   ]
  },
  {
   "cell_type": "code",
   "execution_count": 8,
   "metadata": {},
   "outputs": [],
   "source": [
    "\n",
    "\n",
    "def plot_emotion_dist(dist, color_code='#C2185B', title=\"Plot\"):\n",
    "    \n",
    "    tmp_df = pd.DataFrame()\n",
    "    tmp_df['is_bicycle'] = list(dist.keys())\n",
    "    tmp_df['Count'] = list(dist)\n",
    "    fig, ax = plt.subplots(figsize=(14, 7))\n",
    "    ax = sns.barplot(x=\"is_bicycle\", y='Count', color=color_code, data=tmp_df)\n",
    "    ax.set_title(title)\n",
    "    ax.set_xticklabels(ax.get_xticklabels(),rotation=45)\n",
    "    plt.savefig('reference_set_distribution.png')"
   ]
  },
  {
   "cell_type": "code",
   "execution_count": 9,
   "metadata": {},
   "outputs": [
    {
     "name": "stdout",
     "output_type": "stream",
     "text": [
      "number of images which answered by True = 4586\n",
      "number of images which answ ered by False = 4501\n",
      "The reference dataset is balanced as it has approximately equal number of examples for both True and False answer as shown in the figure.\n"
     ]
    },
    {
     "data": {
      "image/png": "[encoded data removed]",
      "text/plain": [
       "<Figure size 1008x504 with 1 Axes>"
      ]
     },
     "metadata": {
      "needs_background": "light"
     },
     "output_type": "display_data"
    }
   ],
   "source": [
    "ref_data = pd.read_csv('references_dataset.csv')\n",
    "Label_distribution = ref_data.Label.value_counts()\n",
    "print(\"number of images which answered by True = \" +str(Label_distribution[1]))\n",
    "print(\"number of images which answ ered by False = \" +str(Label_distribution[0]))\n",
    "print(\"The reference dataset is balanced as it has approximately equal number of examples for both True and False answer as shown in the figure.\")\n",
    "plot_emotion_dist(Label_distribution, \"#2962FF\", \"Label distribution in reference dataset\")\n",
    "\n"
   ]
  },
  {
   "cell_type": "code",
   "execution_count": null,
   "metadata": {},
   "outputs": [],
   "source": [
    "\"\"\"\n",
    "4. Using the reference set, can you identify good and bad annotators? Please use\n",
    "statistics and visualizations. Feel free to get creative.\n",
    "\"\"\""
   ]
  },
  {
   "cell_type": "code",
   "execution_count": 10,
   "metadata": {},
   "outputs": [],
   "source": [
    "\n",
    "# Read the images labels in the references dataset\n",
    "Image_Classification =ref_data['Label']\n",
    "# Replace 'True' with 'yes' and 'False' with 'no' \n",
    "# to be convenient for the comparison with the annotators' answers\n",
    "Image_Classification =Image_Classification.replace( {True: 'yes', False: 'no'})\n",
    "Image_Classification= np.array(Image_Classification)\n"
   ]
  },
  {
   "cell_type": "code",
   "execution_count": 11,
   "metadata": {},
   "outputs": [],
   "source": [
    "\n",
    "# Change the'vendor_user_id' column into numpy array\n",
    "annotators = np.array(vendor_user_id)\n",
    "shape = ( InputNodesLenght, InputNodeQuestions )\n",
    "# Shape the annotator's answers list into a matrix \n",
    "# to determine the annotators which participate in each question separately\n",
    "annotators_matrix =annotators.reshape( shape )"
   ]
  },
  {
   "cell_type": "code",
   "execution_count": 12,
   "metadata": {},
   "outputs": [],
   "source": [
    "annotator_scores_matrix = np.zeros((answer_matrix.shape[0],answer_matrix.shape[1]))\n",
    "# Scan the reference dataset and compare the reference answer of each question \n",
    "# with the annotarors' answers which participate in the annotation of the same image\n",
    "# then give a score '1' for the annotator right answer and '0' for the wrong answer\n",
    "for rows in range(0, answer_matrix.shape[0]):\n",
    "    for columns in range(0, answer_matrix.shape[1]):\n",
    "        if answer_matrix[rows][columns] ==Image_Classification[rows]:\n",
    "            annotator_scores_matrix[rows][columns]=1\n",
    "        else:\n",
    "            annotator_scores_matrix[rows][columns]=0\n"
   ]
  },
  {
   "cell_type": "code",
   "execution_count": 13,
   "metadata": {},
   "outputs": [],
   "source": [
    "annotator_score_list = np.zeros((22))\n",
    "# As each annotator contributes to different questions in the dataset,\n",
    "# the score of each annotator would be calculated by summing his\\her \n",
    "# score in all contributions. So, the efficiency of each annotator \n",
    "# can be determined with the ratio of the annotator score over his\\her number of contributions.\n",
    "for rows in range(0, annotators_matrix.shape[0]):\n",
    "    for columns in range(0, annotators_matrix.shape[1]):\n",
    "        if annotators_matrix[rows][columns] == 'annotator_01':\n",
    "            annotator_score_list[0]=annotator_score_list[0]+annotator_scores_matrix[rows][columns]\n",
    "        elif annotators_matrix[rows][columns] == 'annotator_02':\n",
    "            annotator_score_list[1]=annotator_score_list[1]+annotator_scores_matrix[rows][columns]\n",
    "        elif annotators_matrix[rows][columns] == 'annotator_03':\n",
    "            annotator_score_list[2]=annotator_score_list[2]+annotator_scores_matrix[rows][columns]\n",
    "        elif annotators_matrix[rows][columns] == 'annotator_04':\n",
    "            annotator_score_list[3]=annotator_score_list[3]+annotator_scores_matrix[rows][columns]\n",
    "        elif annotators_matrix[rows][columns] == 'annotator_05':\n",
    "            annotator_score_list[4]=annotator_score_list[4]+annotator_scores_matrix[rows][columns]\n",
    "        elif annotators_matrix[rows][columns] == 'annotator_06':\n",
    "            annotator_score_list[5]=annotator_score_list[5]+annotator_scores_matrix[rows][columns]\n",
    "        elif annotators_matrix[rows][columns] == 'annotator_07':\n",
    "            annotator_score_list[6]=annotator_score_list[6]+annotator_scores_matrix[rows][columns]\n",
    "        elif annotators_matrix[rows][columns] == 'annotator_08':\n",
    "            annotator_score_list[7]=annotator_score_list[7]+annotator_scores_matrix[rows][columns]\n",
    "        elif annotators_matrix[rows][columns] == 'annotator_09':\n",
    "            annotator_score_list[8]=annotator_score_list[8]+annotator_scores_matrix[rows][columns]\n",
    "        elif annotators_matrix[rows][columns] == 'annotator_10':\n",
    "            annotator_score_list[9]=annotator_score_list[9]+annotator_scores_matrix[rows][columns]\n",
    "        elif annotators_matrix[rows][columns] == 'annotator_11':\n",
    "            annotator_score_list[10]=annotator_score_list[10]+annotator_scores_matrix[rows][columns]\n",
    "        elif annotators_matrix[rows][columns] == 'annotator_12':\n",
    "            annotator_score_list[11]=annotator_score_list[11]+annotator_scores_matrix[rows][columns]\n",
    "        elif annotators_matrix[rows][columns] == 'annotator_13':\n",
    "            annotator_score_list[12]=annotator_score_list[12]+annotator_scores_matrix[rows][columns]\n",
    "        elif annotators_matrix[rows][columns] == 'annotator_14':\n",
    "            annotator_score_list[13]=annotator_score_list[13]+annotator_scores_matrix[rows][columns]\n",
    "        elif annotators_matrix[rows][columns] == 'annotator_15':\n",
    "            annotator_score_list[14]=annotator_score_list[14]+annotator_scores_matrix[rows][columns]\n",
    "        elif annotators_matrix[rows][columns] == 'annotator_16':\n",
    "            annotator_score_list[15]=annotator_score_list[15]+annotator_scores_matrix[rows][columns]\n",
    "        elif annotators_matrix[rows][columns] == 'annotator_17':\n",
    "            annotator_score_list[16]=annotator_score_list[16]+annotator_scores_matrix[rows][columns]\n",
    "        elif annotators_matrix[rows][columns] == 'annotator_18':\n",
    "            annotator_score_list[17]=annotator_score_list[17]+annotator_scores_matrix[rows][columns]\n",
    "        elif annotators_matrix[rows][columns] == 'annotator_19':\n",
    "            annotator_score_list[18]=annotator_score_list[18]+annotator_scores_matrix[rows][columns]\n",
    "        elif annotators_matrix[rows][columns] == 'annotator_20':\n",
    "            annotator_score_list[19]=annotator_score_list[19]+annotator_scores_matrix[rows][columns]\n",
    "        elif annotators_matrix[rows][columns] == 'annotator_21':\n",
    "            annotator_score_list[20]=annotator_score_list[20]+annotator_scores_matrix[rows][columns]\n",
    "        else:\n",
    "            annotator_score_list[21]=annotator_score_list[21]+annotator_scores_matrix[rows][columns]\n",
    "            \n",
    " "
   ]
  },
  {
   "cell_type": "code",
   "execution_count": 14,
   "metadata": {},
   "outputs": [
    {
     "name": "stdout",
     "output_type": "stream",
     "text": [
      "The annotators' efficiency scores are: [0.9484375  0.93483412 0.92857143 0.92820433 0.93697842 0.9265505\n",
      " 0.91494253 0.89918923 0.93333333 0.88888889 0.93629584 0.92979066\n",
      " 0.94687765 0.94666667 0.94842313 0.94230389 0.9420373  0.93636364\n",
      " 0.94705882 0.94825335 0.94       0.94212034]\n",
      "Note: Best score = 1 and Worst score = 0\n"
     ]
    },
    {
     "data": {
      "image/png": "[encoded data removed]",
      "text/plain": [
       "<Figure size 432x288 with 1 Axes>"
      ]
     },
     "metadata": {
      "needs_background": "light"
     },
     "output_type": "display_data"
    }
   ],
   "source": [
    "\n",
    "annotator_efficiency = annotator_score_list/annotator_contribution_list\n",
    "print(\"The annotators' efficiency scores are: \" + str(annotator_efficiency))\n",
    "print(\"Note: Best score = 1 and Worst score = 0\")\n",
    "# Determine the threshold through calculating the average of the annotator efficiency\n",
    "Threshold = sum(annotator_efficiency)/len(annotator_efficiency)\n",
    "Threshold_line = np.ones(22)*Threshold\n",
    "plt.plot(annotator_efficiency,'.')\n",
    "plt.plot(Threshold_line)\n",
    "plt.title('Annotators score with respect to there contribution')\n",
    "plt.ylabel('score')\n",
    "plt.xlabel('annotators')\n",
    "plt.legend(['annotators cost function', 'Threshold line'], loc='lower right')\n",
    "plt.savefig('annotators_score_analysis.png')\n",
    "plt.show()\n"
   ]
  },
  {
   "cell_type": "code",
   "execution_count": 15,
   "metadata": {},
   "outputs": [
    {
     "name": "stdout",
     "output_type": "stream",
     "text": [
      "The good annotator list: ['annotator_1', 'annotator_2', 'annotator_5', 'annotator_11', 'annotator_13', 'annotator_14', 'annotator_15', 'annotator_16', 'annotator_17', 'annotator_18', 'annotator_19', 'annotator_20', 'annotator_21', 'annotator_22']\n",
      "\n",
      "The bad annotator list: ['annotator_3', 'annotator_4', 'annotator_6', 'annotator_7', 'annotator_8', 'annotator_9', 'annotator_10', 'annotator_12']\n"
     ]
    }
   ],
   "source": [
    "good_annotator=[]\n",
    "bad_annotator =[]\n",
    "# Determine the index of the annotators which have scores above average\n",
    "for index, efficiency in enumerate(annotator_efficiency):\n",
    "    if efficiency >= Threshold:\n",
    "        good_annotator.append(index+1)\n",
    "    else:\n",
    "        bad_annotator.append(index+1)\n",
    "\n",
    "good_annotator_list=['annotator_'+str(s) for s in good_annotator]\n",
    "bad_annotator_list=['annotator_'+str(s) for s in bad_annotator]\n",
    "print (\"The good annotator list: \" + str(good_annotator_list)+\"\\n\")\n",
    "print(\"The bad annotator list: \"+ str(bad_annotator_list))"
   ]
  },
  {
   "cell_type": "code",
   "execution_count": null,
   "metadata": {},
   "outputs": [],
   "source": []
  }
 ],
 "metadata": {
  "kernelspec": {
   "display_name": "Python 3",
   "language": "python",
   "name": "python3"
  },
  "language_info": {
   "codemirror_mode": {
    "name": "ipython",
    "version": 3
   },
   "file_extension": ".py",
   "mimetype": "text/x-python",
   "name": "python",
   "nbconvert_exporter": "python",
   "pygments_lexer": "ipython3",
   "version": "3.7.10"
  }
 },
 "nbformat": 4,
 "nbformat_minor": 2
}
